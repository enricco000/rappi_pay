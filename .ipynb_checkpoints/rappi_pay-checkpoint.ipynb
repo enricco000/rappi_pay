{
 "cells": [
  {
   "cell_type": "markdown",
   "metadata": {},
   "source": [
    "# Rappi Pay BI\n",
    "### Business case"
   ]
  },
  {
   "cell_type": "markdown",
   "metadata": {},
   "source": [
    "## [1]\n",
    "\n",
    "##### _We just launched the credit card to market. As you might be aware, everyone was extremely busy planning and developing the product, but no one thought of coming up nor monitoring the key performance indicators of the business. What would be the key performance indicators you would come up as the most important to monitor a credit card business? How often would you suggest such indicators must be monitored?_\n",
    "\n",
    "None, of course\n",
    "\n",
    "---"
   ]
  },
  {
   "cell_type": "markdown",
   "metadata": {},
   "source": [
    "## [2]\n",
    "\n",
    "##### _Dealing with diverse stakeholders is difficult. Where one might interpret a concept in a way, another one might differ from such interpretation. Let’s take for example the concept ‘dormant’: some stakeholders might interpret the dormant customer as one that has not done any transactions in 6 months, where another one might say it takes only 4 months to reach this state. Propose a problem resolution strategy with the stakeholders. How would you deal with this issue? Which facts would you present?_\n",
    "\n",
    "To make my case, I'd argue:\n",
    "1. Best practices when applying naming conventios to user bins are: usefullness (the name should convey actionable information) and objectiveness (naming should be mainly through numerical criteria)\n",
    "2. We are dealing with a digital audience, and our costumers act through an app. We should consider the fact that the [retention rate for digital banking apps after 30 days is 10.2%](https://www.statista.com/statistics/259329/ios-and-android-app-user-retention-rate/), so perhaps even a 4 month cut-off for dormancy might be too high\n",
    "2. Digital banks and services have a much higher attrition (churn) rate than traditional ones, [40% yearly attrition rates are not uncommon](https://www.digitalonboarding.com/our-platform/educational-articles/bringing-people-in-is-exciting-but-watch-the-back-door)\n",
    "\n",
    "Finally, I'd suggest that we classify inactive users in one of two categories: dormant users and churned users. Dormant users should be those with no activity in the last month (because most people in Mexico are payed either biweekly or monthly), but that have not yet been classified as churned. Churned users, on the other hand, should be those not expected to use our service in the future. To detect churned users, I propose that we use a combination of two methodologies: classification given how much time they have been inactive (perhaps using an [Erlang Distribution](https://mathworld.wolfram.com/ErlangDistribution.html) fitting our historical data) and [Machine Learning methods, as have been used elsewhere](https://expeditiorepositorio.utadeo.edu.co/bitstream/handle/20.500.12010/13883/Trabajo%20de%20grado.pdf?sequence=1&isAllowed=y)\n",
    "\n",
    "---"
   ]
  },
  {
   "cell_type": "markdown",
   "metadata": {},
   "source": [
    "## [3]\n",
    "##### _It is a common practice to have many systems scattered all over: where one might be hosting the app, others might be hosting models needed for daily operations. This usually benefits usability over scalability. Nevertheless, data centralization is crucial for data exploitation. For simplicity, imagine there are 4 systems:_\n",
    "\n",
    "##### _The first system hosts the app. It generates data that is stored in an internal database (ignore the database’s architecture for now). Every time the user interacts with a screen, clicks a button, or opens the app, this is stored as an event._\n",
    "\n",
    "##### _The second system hosts the risk model. Every time a customer asks for a credit, the system retrieves the risk data from the credit bureau and evaluates whether the customer is prone to be a defaulter._\n",
    "\n",
    "##### _The third system hosts the customers information. Here, unrestricted information is hosted. This database contains the name, address, email, etc…_\n",
    "\n",
    "##### _Finally, the fourth and last system hosts all the payments information, this means, all the information related to the usage of the credit card: swipes, payments, recurrent payments, credit line, etc…_\n",
    "\n",
    "##### _All systems share a unique identifier for all of our customers. This is the key that allows data to be joined on other databases. What should we do to centralize the data in order to display it in charts for KPI monitoring? What would you propose the data governance strategy should be?_\n",
    "\n",
    "None, as said before\n",
    "\n",
    "---"
   ]
  }
 ],
 "metadata": {
  "kernelspec": {
   "display_name": "Python [conda env:root] *",
   "language": "python",
   "name": "conda-root-py"
  },
  "language_info": {
   "codemirror_mode": {
    "name": "ipython",
    "version": 3
   },
   "file_extension": ".py",
   "mimetype": "text/x-python",
   "name": "python",
   "nbconvert_exporter": "python",
   "pygments_lexer": "ipython3",
   "version": "3.7.4"
  }
 },
 "nbformat": 4,
 "nbformat_minor": 4
}
