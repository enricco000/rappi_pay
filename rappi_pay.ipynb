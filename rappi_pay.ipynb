{
 "cells": [
  {
   "cell_type": "markdown",
   "metadata": {},
   "source": [
    "# Rappi Pay BI\n",
    "### Business case"
   ]
  },
  {
   "cell_type": "markdown",
   "metadata": {},
   "source": [
    "## [1]\n",
    "\n",
    "##### _We just launched the credit card to market. As you might be aware, everyone was extremely busy planning and developing the product, but no one thought of coming up nor monitoring the key performance indicators of the business. What would be the key performance indicators you would come up as the most important to monitor a credit card business? How often would you suggest such indicators must be monitored?_\n",
    "\n",
    "KPIs are often reasoned \"in a vacuum\"; meaning that many data users and analysts often think _they must have_ the clearance and availability to the indicators that have been shown to reflect or prescribe above average performance within an industry. However, on many occasions it is not feasable for techincal or administrative reasons to track those. In the scenario in which \"_no one thought of coming up nor monitoring the key performance indicators of the business_\", more likely than not there is going to be a miriad of issues to solve before accessing the bleeding edge KPIs.\n",
    "\n",
    "Instead of simply enumerating them, I'd rather make a table with desirable KPIs for a digital credit card business, along with the feasability to obtain them, the impact that I expect them to have in the business, and the priority to pursue their tracking, given the current conditions.\n",
    "\n",
    "\n",
    "| KPI                                | Description                                                  | Feasability to track  | Expected Immediate Impact | Expected Long-term Impact | Priority |\n",
    "| ---------------------------------- | ------------------------------------------------------------ | --------------------- | ------------------------- | ------------------------- | -------- |\n",
    "| **CPA**                            | **Cost per Acquisition, also called CAC**                    | **Very feasable**     | **Very high**             | **Very high**             | **A**    |\n",
    "| CLV                                | Client Lifetime Value                                        | Somewhat feasable     | Medium                    | Very High                 | B        |\n",
    "| **Attrition or Churn**             | **Users no longer using the credit card**                    | **Somewhat feasable** | **High**                  | **Very high**             | **A**    |\n",
    "| **ARPC & AMPC**                    | **Average Revenue per Card and Average Margin per Card**     | **Very feasable**     | **Very High**             | **Very High**             | **A**    |\n",
    "| Average Cost of Service            | Calculated either per per card or user                       | Moderate              | High                      | Moderate                  | C        |\n",
    "| Average portfolio risk             | Cost of insurance                                            | Hard                  | High                      | High                      | B        |\n",
    "| Portfolio growth rate              | Acquisition of new users                                     | Very Feasable         | Moderate                  | Little                    | C        |\n",
    "| Charge-offs                        | Outsanding debt not likely to be paid                        | Hard                  | Moderate                  | High                      | B        |\n",
    "| Success rate of user clasification | Income bracket, good or bad client, etc                      | Very Hard             | Little to moderate        | High                      | C        |\n",
    "| **Customer satisfaction**          | **If users are not happy with the service, we won't retain them for long** | **Hard**              | **Moderate**              | **Extremely High**        | **A+**   |\n",
    "\n",
    "\n",
    "The most immediate measures that produce the highest impact in short- and long-term are actually quite simple: \n",
    "\n",
    "$\\frac{ARPC}{CPA + ACS}$\n",
    "\n",
    "where ACS is the Average Monthly Cost of Service. The result of evaluating the expression above is a proxy for ROI. If we optimize both that KPI and customer satisfaction, I think we'll do fine.\n",
    "\n",
    "How often should KPIs be monitored depends, of course, on the nature of the KPIs themselves. My suggested periodicity for the highest priority KPIs is as follows:\n",
    "\n",
    "| KPI                   | Daily | Weekly | Monthly | Quarterly | Yearly |\n",
    "| --------------------- | ----- | ------ | ------- | --------- | ------ |\n",
    "| Customer Satisfaction | Y     | Y      | Y       | Y         | Y      |\n",
    "| CPA                   | N     | Y      | Y       | Y         | Y      |\n",
    "| Churn                 | Y     | Y      | Y       | Y         | Y      |\n",
    "| ARPC                  | N     | N      | Y       | Y         | Y      |\n",
    "\n",
    "Customer Satisfaction should be monitored daily or even with a higher frequency because that way we can react quickly in case there is a technical issue affecting our service. It is very important that we take care of our existing user base, because it is widely known that it is cheaper to maintain current users than attracting new ones.\n",
    "\n",
    "---"
   ]
  },
  {
   "cell_type": "markdown",
   "metadata": {},
   "source": [
    "## [2]\n",
    "\n",
    "##### _Dealing with diverse stakeholders is difficult. Where one might interpret a concept in a way, another one might differ from such interpretation. Let’s take for example the concept ‘dormant’: some stakeholders might interpret the dormant customer as one that has not done any transactions in 6 months, where another one might say it takes only 4 months to reach this state. Propose a problem resolution strategy with the stakeholders. How would you deal with this issue? Which facts would you present?_\n",
    "\n",
    "Each of the stakeholders might have actionable insights that need to be taken into account. Therefore, to deal with the issue at hand, I'd first speak individually to each of them to try to understand the reasoning behind the 4- and 6-month cut-off. I'd try to cross-check their observations with either first or third party data. If there is a statistically significant trend that we can exploit in using either criterion, I'd explain to them that it'd be taken into account for the improvent of our user clasification. In any case, I'd explain to them that we need to improve our current methods and that we'd benefit from an automated and data driven clasification system.\n",
    "\n",
    "To this end, I'd argue:\n",
    "1. Best practices when applying naming conventions to user bins are: usefullness (the name should convey actionable information) and objectiveness (naming should be mainly through numerical criteria)\n",
    "2. We are dealing with a digital audience, and our costumers act through an app. We should consider the fact that the [retention rate for digital banking apps after 30 days is 10.2%](https://www.statista.com/statistics/259329/ios-and-android-app-user-retention-rate/), so perhaps even a 4 month cut-off for dormancy might be too high\n",
    "2. Digital banks and services have a much higher attrition (churn) rate than traditional ones, [40% yearly attrition rates are not uncommon](https://www.digitalonboarding.com/our-platform/educational-articles/bringing-people-in-is-exciting-but-watch-the-back-door)\n",
    "\n",
    "Finally, I'd suggest that we classify inactive users in one of two categories: dormant users and churned users. Dormant users should be those with no activity in the last month (because most people in Mexico are payed either biweekly or monthly), but that have not yet been classified as churned. Churned users, on the other hand, should be those not expected to use our service in the future. To detect churned users, I propose that we use a combination of two methodologies: classification given how much time they have been inactive (perhaps using an [Erlang Distribution](https://mathworld.wolfram.com/ErlangDistribution.html) fitting our historical data, and using stakeholders own insights) and [Machine Learning methods, as have been used elsewhere](https://expeditiorepositorio.utadeo.edu.co/bitstream/handle/20.500.12010/13883/Trabajo%20de%20grado.pdf?sequence=1&isAllowed=y).\n",
    "\n",
    "---"
   ]
  },
  {
   "cell_type": "markdown",
   "metadata": {},
   "source": [
    "## [3]\n",
    "##### _It is a common practice to have many systems scattered all over: where one might be hosting the app, others might be hosting models needed for daily operations. This usually benefits usability over scalability. Nevertheless, data centralization is crucial for data exploitation. For simplicity, imagine there are 4 systems:_\n",
    "\n",
    "##### _The first system hosts the app. It generates data that is stored in an internal database (ignore the database’s architecture for now). Every time the user interacts with a screen, clicks a button, or opens the app, this is stored as an event._\n",
    "\n",
    "##### _The second system hosts the risk model. Every time a customer asks for a credit, the system retrieves the risk data from the credit bureau and evaluates whether the customer is prone to be a defaulter._\n",
    "\n",
    "##### _The third system hosts the customers information. Here, unrestricted information is hosted. This database contains the name, address, email, etc…_\n",
    "\n",
    "##### _Finally, the fourth and last system hosts all the payments information, this means, all the information related to the usage of the credit card: swipes, payments, recurrent payments, credit line, etc…_\n",
    "\n",
    "##### _All systems share a unique identifier for all of our customers. This is the key that allows data to be joined on other databases. What should we do to centralize the data in order to display it in charts for KPI monitoring? What would you propose the data governance strategy should be?_\n",
    "\n",
    "DBs for charting must fullfill some requirements:\n",
    "1. Operation comes first. Monitoring, although very important, should come second\n",
    "2. DBs must provide quick access to information\n",
    "3. Information should be already sanitized, i. e., already transformed such that it can be easily turned into actions\n",
    "4. Different actors require different clearances\n",
    "\n",
    "What we should do in order to monitor our KPIs is mount an ETL in the cloud. It would make a call to each of the 4 systems without human intervention. Before launching to production this system should be tested against samples of each of the systems information to ensure that the data is truly consistent and actionable. The most suitable DB schema is Snowflake, since the Facts table closely resembles a buisness query.\n",
    "\n",
    "As for the data governance, it is important that there is accessible and extensive documentation on the development of our ETL. As for each system, the most use-intensive and most critical to the operation is the first one. Therefore, all the calls should conform to its least-busy times, which are surely late at night. Therefore, our system is to be updated once daily. The second system seems to have a small load of work most of the time. Perhaps we can do some of our transformations in this system before pulling them to our ETL. The third system has PII, which is always a delicate issue. Anonymizing through hashing this information should be carried out before loading it to our system. The fourth system should be queried for day to day data in order to have a clear picture of how finances are behaving; however, I'd recommend that we also check data from 30, 60 and 90 days prior because our data must be in line with whatever reconciliation payments or debts are being handled by the accounting department.\n",
    "\n",
    "Particularly for the first and third systems, I'd designate up to three people with exclusive access, in order to maintain both operability of our business, and guarding PII.\n",
    "\n",
    "---"
   ]
  },
  {
   "cell_type": "markdown",
   "metadata": {},
   "source": [
    "## [4.1]\n",
    "##### _This database contains credit card information and transactions from multiple customers. Use your favorite data visualization tool / programming language to explore the data and present the results_"
   ]
  },
  {
   "cell_type": "code",
   "execution_count": 1,
   "metadata": {},
   "outputs": [],
   "source": [
    "# import libraries\n",
    "import pandas as pd\n",
    "pd.set_option('mode.chained_assignment', None)\n",
    "from pandas.api.types import is_numeric_dtype\n",
    "import numpy as np\n",
    "import datetime\n",
    "import matplotlib.pyplot as plt\n",
    "import seaborn as sns; sns.set(\"notebook\", font_scale=1.5, rc={\"lines.linewidth\": 2.5,\n",
    "                                                  \"figure.figsize\": (12, 7)})"
   ]
  },
  {
   "cell_type": "markdown",
   "metadata": {},
   "source": [
    "Let's see our numerical columns"
   ]
  },
  {
   "cell_type": "code",
   "execution_count": 2,
   "metadata": {},
   "outputs": [
    {
     "data": {
      "text/html": [
       "<div>\n",
       "<style scoped>\n",
       "    .dataframe tbody tr th:only-of-type {\n",
       "        vertical-align: middle;\n",
       "    }\n",
       "\n",
       "    .dataframe tbody tr th {\n",
       "        vertical-align: top;\n",
       "    }\n",
       "\n",
       "    .dataframe thead th {\n",
       "        text-align: right;\n",
       "    }\n",
       "</style>\n",
       "<table border=\"1\" class=\"dataframe\">\n",
       "  <thead>\n",
       "    <tr style=\"text-align: right;\">\n",
       "      <th></th>\n",
       "      <th>SEQ</th>\n",
       "      <th>ID</th>\n",
       "      <th>INTEREST_RATE</th>\n",
       "      <th>AMOUNT</th>\n",
       "      <th>CAT</th>\n",
       "      <th>TXN</th>\n",
       "      <th>CP</th>\n",
       "      <th>DELIVERY_SCORE</th>\n",
       "    </tr>\n",
       "  </thead>\n",
       "  <tbody>\n",
       "    <tr>\n",
       "      <td>count</td>\n",
       "      <td>12756.000000</td>\n",
       "      <td>12756.000000</td>\n",
       "      <td>1505.000000</td>\n",
       "      <td>1505.000000</td>\n",
       "      <td>1505.000000</td>\n",
       "      <td>3773.000000</td>\n",
       "      <td>1046.000000</td>\n",
       "      <td>1046.000000</td>\n",
       "    </tr>\n",
       "    <tr>\n",
       "      <td>mean</td>\n",
       "      <td>6377.500000</td>\n",
       "      <td>2516.923330</td>\n",
       "      <td>39.695681</td>\n",
       "      <td>14479.800664</td>\n",
       "      <td>39.663787</td>\n",
       "      <td>2009.774234</td>\n",
       "      <td>42298.432122</td>\n",
       "      <td>1.964627</td>\n",
       "    </tr>\n",
       "    <tr>\n",
       "      <td>std</td>\n",
       "      <td>3682.484352</td>\n",
       "      <td>1465.606943</td>\n",
       "      <td>5.924762</td>\n",
       "      <td>14520.262941</td>\n",
       "      <td>5.751843</td>\n",
       "      <td>10034.936766</td>\n",
       "      <td>16757.547428</td>\n",
       "      <td>1.116938</td>\n",
       "    </tr>\n",
       "    <tr>\n",
       "      <td>min</td>\n",
       "      <td>0.000000</td>\n",
       "      <td>1.000000</td>\n",
       "      <td>30.000000</td>\n",
       "      <td>0.000000</td>\n",
       "      <td>30.000000</td>\n",
       "      <td>0.342075</td>\n",
       "      <td>11560.000000</td>\n",
       "      <td>0.000000</td>\n",
       "    </tr>\n",
       "    <tr>\n",
       "      <td>25%</td>\n",
       "      <td>3188.750000</td>\n",
       "      <td>1204.000000</td>\n",
       "      <td>35.000000</td>\n",
       "      <td>3800.000000</td>\n",
       "      <td>35.000000</td>\n",
       "      <td>67.888982</td>\n",
       "      <td>44100.000000</td>\n",
       "      <td>1.000000</td>\n",
       "    </tr>\n",
       "    <tr>\n",
       "      <td>50%</td>\n",
       "      <td>6377.500000</td>\n",
       "      <td>2571.000000</td>\n",
       "      <td>40.000000</td>\n",
       "      <td>9800.000000</td>\n",
       "      <td>40.000000</td>\n",
       "      <td>265.086727</td>\n",
       "      <td>44620.000000</td>\n",
       "      <td>2.000000</td>\n",
       "    </tr>\n",
       "    <tr>\n",
       "      <td>75%</td>\n",
       "      <td>9566.250000</td>\n",
       "      <td>3801.000000</td>\n",
       "      <td>45.000000</td>\n",
       "      <td>20100.000000</td>\n",
       "      <td>45.000000</td>\n",
       "      <td>1061.080947</td>\n",
       "      <td>53100.000000</td>\n",
       "      <td>3.000000</td>\n",
       "    </tr>\n",
       "    <tr>\n",
       "      <td>max</td>\n",
       "      <td>12755.000000</td>\n",
       "      <td>4999.000000</td>\n",
       "      <td>49.000000</td>\n",
       "      <td>108300.000000</td>\n",
       "      <td>49.000000</td>\n",
       "      <td>412498.523206</td>\n",
       "      <td>64000.000000</td>\n",
       "      <td>5.000000</td>\n",
       "    </tr>\n",
       "  </tbody>\n",
       "</table>\n",
       "</div>"
      ],
      "text/plain": [
       "                SEQ            ID  INTEREST_RATE         AMOUNT          CAT  \\\n",
       "count  12756.000000  12756.000000    1505.000000    1505.000000  1505.000000   \n",
       "mean    6377.500000   2516.923330      39.695681   14479.800664    39.663787   \n",
       "std     3682.484352   1465.606943       5.924762   14520.262941     5.751843   \n",
       "min        0.000000      1.000000      30.000000       0.000000    30.000000   \n",
       "25%     3188.750000   1204.000000      35.000000    3800.000000    35.000000   \n",
       "50%     6377.500000   2571.000000      40.000000    9800.000000    40.000000   \n",
       "75%     9566.250000   3801.000000      45.000000   20100.000000    45.000000   \n",
       "max    12755.000000   4999.000000      49.000000  108300.000000    49.000000   \n",
       "\n",
       "                 TXN            CP  DELIVERY_SCORE  \n",
       "count    3773.000000   1046.000000     1046.000000  \n",
       "mean     2009.774234  42298.432122        1.964627  \n",
       "std     10034.936766  16757.547428        1.116938  \n",
       "min         0.342075  11560.000000        0.000000  \n",
       "25%        67.888982  44100.000000        1.000000  \n",
       "50%       265.086727  44620.000000        2.000000  \n",
       "75%      1061.080947  53100.000000        3.000000  \n",
       "max    412498.523206  64000.000000        5.000000  "
      ]
     },
     "execution_count": 2,
     "metadata": {},
     "output_type": "execute_result"
    }
   ],
   "source": [
    "# read and describe table\n",
    "data = pd.read_csv('BIQuiz_022021.csv')\n",
    "data.describe()"
   ]
  },
  {
   "cell_type": "markdown",
   "metadata": {},
   "source": [
    "We don't really need SEQ, ID and CP to be numerical; they are identifiers, so we should mind those if we intend to do some calculations. What are the available values for the rest of the columns?"
   ]
  },
  {
   "cell_type": "code",
   "execution_count": 3,
   "metadata": {},
   "outputs": [
    {
     "name": "stdout",
     "output_type": "stream",
     "text": [
      "UPDATE ['2019-11-12 16:59:50.359977599' '2019-11-14 20:46:41.439964799'\n",
      " '2019-11-15 16:14:50.533295999' ... '2020-04-27 08:22:31.744991999'\n",
      " '2020-04-27 14:27:19.772092799' '2020-05-22 02:43:01.825679998'] \n",
      "\n",
      "STATUS ['RESPONSE' 'RISK' 'APPROVED' nan 'DELIVERED' 'REJECTED'] \n",
      "\n",
      "MOTIVE [nan 'DIGITAL' 'PLASTIC' 'USAGE' 'MOP' 'INCOME' 'EMPTY'] \n",
      "\n"
     ]
    }
   ],
   "source": [
    "for column in [x for x in data.columns if is_numeric_dtype(data[x]) == False]:\n",
    "    print(column, data[column].unique(), '\\n')"
   ]
  },
  {
   "cell_type": "markdown",
   "metadata": {},
   "source": [
    "UPDATE is a timestamp:"
   ]
  },
  {
   "cell_type": "code",
   "execution_count": 4,
   "metadata": {},
   "outputs": [
    {
     "data": {
      "text/html": [
       "<div>\n",
       "<style scoped>\n",
       "    .dataframe tbody tr th:only-of-type {\n",
       "        vertical-align: middle;\n",
       "    }\n",
       "\n",
       "    .dataframe tbody tr th {\n",
       "        vertical-align: top;\n",
       "    }\n",
       "\n",
       "    .dataframe thead th {\n",
       "        text-align: right;\n",
       "    }\n",
       "</style>\n",
       "<table border=\"1\" class=\"dataframe\">\n",
       "  <thead>\n",
       "    <tr style=\"text-align: right;\">\n",
       "      <th></th>\n",
       "      <th>SEQ</th>\n",
       "      <th>ID</th>\n",
       "      <th>UPDATE</th>\n",
       "      <th>STATUS</th>\n",
       "      <th>MOTIVE</th>\n",
       "      <th>INTEREST_RATE</th>\n",
       "      <th>AMOUNT</th>\n",
       "      <th>CAT</th>\n",
       "      <th>TXN</th>\n",
       "      <th>CP</th>\n",
       "      <th>DELIVERY_SCORE</th>\n",
       "    </tr>\n",
       "  </thead>\n",
       "  <tbody>\n",
       "    <tr>\n",
       "      <td>0</td>\n",
       "      <td>0</td>\n",
       "      <td>1</td>\n",
       "      <td>2019-11-12 16:59:50</td>\n",
       "      <td>RESPONSE</td>\n",
       "      <td>NaN</td>\n",
       "      <td>NaN</td>\n",
       "      <td>NaN</td>\n",
       "      <td>NaN</td>\n",
       "      <td>NaN</td>\n",
       "      <td>NaN</td>\n",
       "      <td>NaN</td>\n",
       "    </tr>\n",
       "    <tr>\n",
       "      <td>1</td>\n",
       "      <td>1</td>\n",
       "      <td>1</td>\n",
       "      <td>2019-11-14 20:46:41</td>\n",
       "      <td>RISK</td>\n",
       "      <td>NaN</td>\n",
       "      <td>NaN</td>\n",
       "      <td>NaN</td>\n",
       "      <td>NaN</td>\n",
       "      <td>NaN</td>\n",
       "      <td>NaN</td>\n",
       "      <td>NaN</td>\n",
       "    </tr>\n",
       "    <tr>\n",
       "      <td>2</td>\n",
       "      <td>2</td>\n",
       "      <td>1</td>\n",
       "      <td>2019-11-15 16:14:50</td>\n",
       "      <td>APPROVED</td>\n",
       "      <td>DIGITAL</td>\n",
       "      <td>40.0</td>\n",
       "      <td>1300.0</td>\n",
       "      <td>49.0</td>\n",
       "      <td>NaN</td>\n",
       "      <td>NaN</td>\n",
       "      <td>NaN</td>\n",
       "    </tr>\n",
       "    <tr>\n",
       "      <td>3</td>\n",
       "      <td>3</td>\n",
       "      <td>1</td>\n",
       "      <td>2020-01-14 23:08:23</td>\n",
       "      <td>NaN</td>\n",
       "      <td>NaN</td>\n",
       "      <td>NaN</td>\n",
       "      <td>NaN</td>\n",
       "      <td>NaN</td>\n",
       "      <td>434.112066</td>\n",
       "      <td>NaN</td>\n",
       "      <td>NaN</td>\n",
       "    </tr>\n",
       "    <tr>\n",
       "      <td>4</td>\n",
       "      <td>4</td>\n",
       "      <td>2</td>\n",
       "      <td>2019-11-11 00:00:00</td>\n",
       "      <td>NaN</td>\n",
       "      <td>NaN</td>\n",
       "      <td>NaN</td>\n",
       "      <td>NaN</td>\n",
       "      <td>NaN</td>\n",
       "      <td>NaN</td>\n",
       "      <td>NaN</td>\n",
       "      <td>NaN</td>\n",
       "    </tr>\n",
       "  </tbody>\n",
       "</table>\n",
       "</div>"
      ],
      "text/plain": [
       "   SEQ  ID              UPDATE    STATUS   MOTIVE  INTEREST_RATE  AMOUNT  \\\n",
       "0    0   1 2019-11-12 16:59:50  RESPONSE      NaN            NaN     NaN   \n",
       "1    1   1 2019-11-14 20:46:41      RISK      NaN            NaN     NaN   \n",
       "2    2   1 2019-11-15 16:14:50  APPROVED  DIGITAL           40.0  1300.0   \n",
       "3    3   1 2020-01-14 23:08:23       NaN      NaN            NaN     NaN   \n",
       "4    4   2 2019-11-11 00:00:00       NaN      NaN            NaN     NaN   \n",
       "\n",
       "    CAT         TXN  CP  DELIVERY_SCORE  \n",
       "0   NaN         NaN NaN             NaN  \n",
       "1   NaN         NaN NaN             NaN  \n",
       "2  49.0         NaN NaN             NaN  \n",
       "3   NaN  434.112066 NaN             NaN  \n",
       "4   NaN         NaN NaN             NaN  "
      ]
     },
     "execution_count": 4,
     "metadata": {},
     "output_type": "execute_result"
    }
   ],
   "source": [
    "data['UPDATE'] = pd.to_datetime(data['UPDATE']).dt.floor('s')\n",
    "data.head()"
   ]
  },
  {
   "cell_type": "markdown",
   "metadata": {},
   "source": [
    "Everything makes sense. I don't like the fact that we have transactions and card approvals and deliveries in the very same table. But such is life. I'll separate them down the road. For now, let's get all the individual users."
   ]
  },
  {
   "cell_type": "code",
   "execution_count": 5,
   "metadata": {},
   "outputs": [
    {
     "name": "stdout",
     "output_type": "stream",
     "text": [
      "3341\n"
     ]
    }
   ],
   "source": [
    "users = data['ID'].unique()\n",
    "print(len(users))"
   ]
  },
  {
   "cell_type": "markdown",
   "metadata": {},
   "source": [
    "Now, we should do a sanity check:\n",
    "1. Only users that have a card approved _should_ have transactions\n",
    "2. All delivered users _should_ have a zip code\n",
    "3. Only users that have a card delivered _should_ have a delivery score\n",
    "4. _Most_ users that have a card approved _should_ have a 'RESPONSE' status"
   ]
  },
  {
   "cell_type": "markdown",
   "metadata": {},
   "source": [
    "1. Only approved users have transactions?"
   ]
  },
  {
   "cell_type": "code",
   "execution_count": 6,
   "metadata": {},
   "outputs": [
    {
     "name": "stdout",
     "output_type": "stream",
     "text": [
      "OK! Transactions have been made only by approved users\n"
     ]
    }
   ],
   "source": [
    "approved_users = data.loc[\n",
    "    data['STATUS'] == 'APPROVED',\n",
    "    'ID'\n",
    "].unique()\n",
    "\n",
    "transactions_by_non_approved = data[\n",
    "    ~data['TXN'].isin([0, np.nan]) &\n",
    "    ~data['ID'].isin(approved_users)\n",
    "]['ID']\n",
    "\n",
    "if len(transactions_by_non_approved) == 0:\n",
    "    print('OK! Transactions have been made only by approved users')\n",
    "else:\n",
    "    print('Something\\'s wrong: transactions have been made by non approved users')"
   ]
  },
  {
   "cell_type": "markdown",
   "metadata": {},
   "source": [
    "2. All delivered users have zip codes?"
   ]
  },
  {
   "cell_type": "code",
   "execution_count": 7,
   "metadata": {},
   "outputs": [
    {
     "name": "stdout",
     "output_type": "stream",
     "text": [
      "Something's wrong: some CPs have non-delivered users associated\n"
     ]
    }
   ],
   "source": [
    "delivered_users = data.loc[\n",
    "    data['STATUS'] == 'DELIVERED',\n",
    "    'ID'\n",
    "].unique()\n",
    "\n",
    "zip_codes_of_non_delivered = data[\n",
    "    data['STATUS'].isin([0, np.nan]) &\n",
    "    ~data['ID'].isin(delivered_users)\n",
    "]['CP']\n",
    "\n",
    "if len(zip_codes_of_non_delivered) == 0:\n",
    "    print('OK! All delivered users have a CP')\n",
    "else:\n",
    "    print('Something\\'s wrong: some CPs have non-delivered users associated')"
   ]
  },
  {
   "cell_type": "markdown",
   "metadata": {},
   "source": [
    "3. Only delivered users have a delivery score"
   ]
  },
  {
   "cell_type": "code",
   "execution_count": 8,
   "metadata": {},
   "outputs": [
    {
     "name": "stdout",
     "output_type": "stream",
     "text": [
      "OK! All scores correspond to delivered users\n"
     ]
    }
   ],
   "source": [
    "scores_of_non_delivered = data[\n",
    "    ~data['DELIVERY_SCORE'].isin([np.nan]) &\n",
    "    ~data['ID'].isin(delivered_users)\n",
    "]['DELIVERY_SCORE']\n",
    "\n",
    "if len(scores_of_non_delivered) == 0:\n",
    "    print('OK! All scores correspond to delivered users')\n",
    "else:\n",
    "    print('Something\\'s wrong: some scores have non-delivered users associated')"
   ]
  },
  {
   "cell_type": "markdown",
   "metadata": {},
   "source": [
    "4. Do most approved user have a RESPONSE status?"
   ]
  },
  {
   "cell_type": "code",
   "execution_count": 9,
   "metadata": {},
   "outputs": [
    {
     "name": "stdout",
     "output_type": "stream",
     "text": [
      "We have 0 non-responsive approved users out of 1505 approved users\n",
      "All approved users responded\n"
     ]
    }
   ],
   "source": [
    "response_users = data.loc[\n",
    "    (data['STATUS'] == \"RESPONSE\"),\n",
    "    'ID'\n",
    "].unique()\n",
    "\n",
    "approved_non_response = [\n",
    "    x for x in approved_users if x not in response_users\n",
    "]\n",
    "\n",
    "print(\"We have {} non-responsive approved users out of {} approved users\".\n",
    "     format(len(approved_non_response), len(approved_users)))\n",
    "if len(approved_non_response) / len(approved_users) > 0.3:\n",
    "    print(\"An important proportion of approved users were non-responsive\")\n",
    "elif len(approved_non_response) / len(approved_users) == 0:\n",
    "    print(\"All approved users responded\")\n",
    "else:\n",
    "    print(\"Most approved users responded\")"
   ]
  },
  {
   "cell_type": "markdown",
   "metadata": {},
   "source": [
    "Great! Everything looks fine. Let's look at the reasons why users get rejected"
   ]
  },
  {
   "cell_type": "code",
   "execution_count": 10,
   "metadata": {},
   "outputs": [
    {
     "data": {
      "image/png": "[encoded data removed]",
      "text/plain": [
       "<Figure size 360x360 with 1 Axes>"
      ]
     },
     "metadata": {
      "needs_background": "light"
     },
     "output_type": "display_data"
    }
   ],
   "source": [
    "rejected_users = data.loc[\n",
    "    (data['STATUS'] == \"REJECTED\"),\n",
    "    'ID'\n",
    "].unique()\n",
    "\n",
    "rejected = data[\n",
    "    ~data['MOTIVE'].isin([\"PLASTIC\", \"DIGITAL\", np.nan]) &\n",
    "    data['ID'].isin(rejected_users)\n",
    "]\n",
    "\n",
    "reject_reasons = sns.catplot(x=\"MOTIVE\", kind=\"count\", data=rejected)\n",
    "reject_reasons.savefig(\"./reject_reasons.png\", dpi=150)"
   ]
  },
  {
   "cell_type": "markdown",
   "metadata": {},
   "source": [
    "I wonder what those empty ones are.\n",
    "\n",
    "Also, MOP (method of payment) are surely cash-only users.\n",
    "\n",
    "The first obvious thing to check is digital vs plastic users. If there is a difference between them, maybe we can focus on either. It may also allow us to adjust our bidding strategies on paid media. Let's start by checking the proportion of plastic vs digital users"
   ]
  },
  {
   "cell_type": "code",
   "execution_count": 11,
   "metadata": {},
   "outputs": [
    {
     "data": {
      "image/png": "[encoded data removed]",
      "text/plain": [
       "<Figure size 360x360 with 1 Axes>"
      ]
     },
     "metadata": {
      "needs_background": "light"
     },
     "output_type": "display_data"
    }
   ],
   "source": [
    "card_holders = data.loc[\n",
    "    (data['MOTIVE'].isin([\"PLASTIC\", \"DIGITAL\"])),\n",
    "    'ID'\n",
    "].unique()\n",
    "\n",
    "cards = data[\n",
    "    data['ID'].isin(card_holders)\n",
    "]\n",
    "\n",
    "card_types = sns.catplot(x=\"MOTIVE\", kind=\"count\", data=cards)\n",
    "card_types.savefig(\"./card_types.png\", dpi=150)"
   ]
  },
  {
   "cell_type": "markdown",
   "metadata": {},
   "source": [
    "We have by far more plastic users. My guess is that digital users have a greater average spend and transactions. But since they are only a third of the users they might account for fewer total revenue. We'll get to that in a moment. First, let's check the transactions of all card holders"
   ]
  },
  {
   "cell_type": "code",
   "execution_count": 12,
   "metadata": {},
   "outputs": [
    {
     "data": {
      "text/html": [
       "<div>\n",
       "<style scoped>\n",
       "    .dataframe tbody tr th:only-of-type {\n",
       "        vertical-align: middle;\n",
       "    }\n",
       "\n",
       "    .dataframe tbody tr th {\n",
       "        vertical-align: top;\n",
       "    }\n",
       "\n",
       "    .dataframe thead th {\n",
       "        text-align: right;\n",
       "    }\n",
       "</style>\n",
       "<table border=\"1\" class=\"dataframe\">\n",
       "  <thead>\n",
       "    <tr style=\"text-align: right;\">\n",
       "      <th></th>\n",
       "      <th>ID</th>\n",
       "      <th>CARD_TYPE</th>\n",
       "      <th>TXN_TOTAL_VALUE</th>\n",
       "      <th>TXN_COUNT</th>\n",
       "    </tr>\n",
       "  </thead>\n",
       "  <tbody>\n",
       "    <tr>\n",
       "      <td>0</td>\n",
       "      <td>1</td>\n",
       "      <td>DIGITAL</td>\n",
       "      <td>434.112066</td>\n",
       "      <td>1.0</td>\n",
       "    </tr>\n",
       "    <tr>\n",
       "      <td>1</td>\n",
       "      <td>4</td>\n",
       "      <td>PLASTIC</td>\n",
       "      <td>5426.211783</td>\n",
       "      <td>4.0</td>\n",
       "    </tr>\n",
       "    <tr>\n",
       "      <td>2</td>\n",
       "      <td>5</td>\n",
       "      <td>PLASTIC</td>\n",
       "      <td>0.000000</td>\n",
       "      <td>0.0</td>\n",
       "    </tr>\n",
       "    <tr>\n",
       "      <td>3</td>\n",
       "      <td>8</td>\n",
       "      <td>PLASTIC</td>\n",
       "      <td>0.000000</td>\n",
       "      <td>0.0</td>\n",
       "    </tr>\n",
       "    <tr>\n",
       "      <td>4</td>\n",
       "      <td>11</td>\n",
       "      <td>PLASTIC</td>\n",
       "      <td>6251.991470</td>\n",
       "      <td>5.0</td>\n",
       "    </tr>\n",
       "    <tr>\n",
       "      <td>...</td>\n",
       "      <td>...</td>\n",
       "      <td>...</td>\n",
       "      <td>...</td>\n",
       "      <td>...</td>\n",
       "    </tr>\n",
       "    <tr>\n",
       "      <td>1500</td>\n",
       "      <td>4966</td>\n",
       "      <td>PLASTIC</td>\n",
       "      <td>2257.243075</td>\n",
       "      <td>5.0</td>\n",
       "    </tr>\n",
       "    <tr>\n",
       "      <td>1501</td>\n",
       "      <td>4970</td>\n",
       "      <td>DIGITAL</td>\n",
       "      <td>3299.439022</td>\n",
       "      <td>5.0</td>\n",
       "    </tr>\n",
       "    <tr>\n",
       "      <td>1502</td>\n",
       "      <td>4991</td>\n",
       "      <td>PLASTIC</td>\n",
       "      <td>2901.124415</td>\n",
       "      <td>5.0</td>\n",
       "    </tr>\n",
       "    <tr>\n",
       "      <td>1503</td>\n",
       "      <td>4998</td>\n",
       "      <td>DIGITAL</td>\n",
       "      <td>886.801257</td>\n",
       "      <td>4.0</td>\n",
       "    </tr>\n",
       "    <tr>\n",
       "      <td>1504</td>\n",
       "      <td>4999</td>\n",
       "      <td>PLASTIC</td>\n",
       "      <td>36084.482922</td>\n",
       "      <td>5.0</td>\n",
       "    </tr>\n",
       "  </tbody>\n",
       "</table>\n",
       "<p>1505 rows × 4 columns</p>\n",
       "</div>"
      ],
      "text/plain": [
       "        ID CARD_TYPE  TXN_TOTAL_VALUE  TXN_COUNT\n",
       "0        1   DIGITAL       434.112066        1.0\n",
       "1        4   PLASTIC      5426.211783        4.0\n",
       "2        5   PLASTIC         0.000000        0.0\n",
       "3        8   PLASTIC         0.000000        0.0\n",
       "4       11   PLASTIC      6251.991470        5.0\n",
       "...    ...       ...              ...        ...\n",
       "1500  4966   PLASTIC      2257.243075        5.0\n",
       "1501  4970   DIGITAL      3299.439022        5.0\n",
       "1502  4991   PLASTIC      2901.124415        5.0\n",
       "1503  4998   DIGITAL       886.801257        4.0\n",
       "1504  4999   PLASTIC     36084.482922        5.0\n",
       "\n",
       "[1505 rows x 4 columns]"
      ]
     },
     "execution_count": 12,
     "metadata": {},
     "output_type": "execute_result"
    }
   ],
   "source": [
    "card_holder_and_type = cards[\n",
    "    ~cards['MOTIVE'].isin([np.nan])\n",
    "][['ID', 'MOTIVE']]\n",
    "\n",
    "card_holders_txn_sum = data[\n",
    "    ~data['TXN'].isin([np.nan])\n",
    "].groupby('ID', as_index=False).agg({\"TXN\": \"sum\"})\n",
    "\n",
    "card_holders_txn_sum.rename(columns = {\"TXN\": \"TXN_TOTAL_VALUE\"}, inplace=True)\n",
    "\n",
    "card_holders_txn_count = data[\n",
    "    ~data['TXN'].isin([np.nan])\n",
    "].groupby('ID', as_index=False).agg({\"TXN\": \"count\"})\n",
    "\n",
    "card_holders_txn_count.rename(columns = {\"TXN\": \"TXN_COUNT\"}, inplace=True)\n",
    "\n",
    "card_holders_grouped = card_holder_and_type.merge(\n",
    "    card_holders_txn_sum,\n",
    "    how=\"left\"\n",
    ")\n",
    "\n",
    "card_holders_grouped = card_holders_grouped.merge(\n",
    "    card_holders_txn_count,\n",
    "    how=\"left\"\n",
    ")\n",
    "\n",
    "card_holders_grouped.fillna(0, inplace=True)\n",
    "card_holders_grouped.rename(columns = {\n",
    "    \"MOTIVE\": \"CARD_TYPE\"\n",
    "}, inplace=True)\n",
    "card_holders_grouped"
   ]
  },
  {
   "cell_type": "markdown",
   "metadata": {},
   "source": [
    "Let's compare the average transaction value of plastic vs digital card holders."
   ]
  },
  {
   "cell_type": "code",
   "execution_count": 13,
   "metadata": {},
   "outputs": [
    {
     "data": {
      "image/png": "[encoded data removed]",
      "text/plain": [
       "<Figure size 360x360 with 1 Axes>"
      ]
     },
     "metadata": {
      "needs_background": "light"
     },
     "output_type": "display_data"
    }
   ],
   "source": [
    "value_txn_by_type = sns.catplot(x=\"CARD_TYPE\", y=\"TXN_TOTAL_VALUE\", kind=\"bar\", data=card_holders_grouped)\n",
    "value_txn_by_type.savefig(\"./value_txn_by_type.png\", dpi=150)"
   ]
  },
  {
   "cell_type": "markdown",
   "metadata": {},
   "source": [
    "Now the average number of transactions for each"
   ]
  },
  {
   "cell_type": "code",
   "execution_count": 14,
   "metadata": {},
   "outputs": [
    {
     "data": {
      "image/png": "[encoded data removed]",
      "text/plain": [
       "<Figure size 360x360 with 1 Axes>"
      ]
     },
     "metadata": {
      "needs_background": "light"
     },
     "output_type": "display_data"
    }
   ],
   "source": [
    "count_txn_by_type = sns.catplot(x=\"CARD_TYPE\", y=\"TXN_COUNT\", kind=\"bar\", data=card_holders_grouped)\n",
    "count_txn_by_type.savefig(\"./count_txn_by_type.png\", dpi=150)"
   ]
  },
  {
   "cell_type": "markdown",
   "metadata": {},
   "source": [
    "I seriously underestimated our plastic users. Their average total spend and number of purchases are practically the same than those of digital users! (Because the error bars touch each other it's not even worth it to perform a statistical test.)\n"
   ]
  },
  {
   "cell_type": "markdown",
   "metadata": {},
   "source": [
    "From the information we have, we need to ask ourselves:\n",
    "1. Which type of user has the potential to generate more gross revenue?\n",
    "2. Which type of user is more costly?\n",
    "3. Given the first two answers, what type of user is more profitable?\n",
    "\n",
    "We're going to suppose that [50% of all active card holders pay interests](https://www.milenio.com/negocios/tarjetas-credito-clientes-prefieren-pagar-saldo-completo-baxico) on their loans.\n",
    "\n",
    "For this profitability calculation we need to know the lifetime of each type of user. Therefore, what follows are some data manipulations to get a dataframe in long-form, i. e., each user with the dates of their transactions, not the other way around."
   ]
  },
  {
   "cell_type": "code",
   "execution_count": 15,
   "metadata": {},
   "outputs": [
    {
     "data": {
      "text/html": [
       "<div>\n",
       "<style scoped>\n",
       "    .dataframe tbody tr th:only-of-type {\n",
       "        vertical-align: middle;\n",
       "    }\n",
       "\n",
       "    .dataframe tbody tr th {\n",
       "        vertical-align: top;\n",
       "    }\n",
       "\n",
       "    .dataframe thead th {\n",
       "        text-align: right;\n",
       "    }\n",
       "</style>\n",
       "<table border=\"1\" class=\"dataframe\">\n",
       "  <thead>\n",
       "    <tr style=\"text-align: right;\">\n",
       "      <th></th>\n",
       "      <th>ID</th>\n",
       "      <th>TXN_TOTAL_VALUE</th>\n",
       "      <th>TXN_COUNT</th>\n",
       "      <th>CAT</th>\n",
       "      <th>AMOUNT</th>\n",
       "      <th>INTEREST_RATE</th>\n",
       "      <th>CP</th>\n",
       "      <th>DELIVERY_SCORE</th>\n",
       "    </tr>\n",
       "  </thead>\n",
       "  <tbody>\n",
       "    <tr>\n",
       "      <td>count</td>\n",
       "      <td>1505.000000</td>\n",
       "      <td>1505.000000</td>\n",
       "      <td>1505.000000</td>\n",
       "      <td>1505.000000</td>\n",
       "      <td>1505.000000</td>\n",
       "      <td>1505.000000</td>\n",
       "      <td>1046.000000</td>\n",
       "      <td>1046.000000</td>\n",
       "    </tr>\n",
       "    <tr>\n",
       "      <td>mean</td>\n",
       "      <td>2477.852492</td>\n",
       "      <td>5038.457266</td>\n",
       "      <td>2.506977</td>\n",
       "      <td>39.663787</td>\n",
       "      <td>14479.800664</td>\n",
       "      <td>39.695681</td>\n",
       "      <td>42298.432122</td>\n",
       "      <td>1.964627</td>\n",
       "    </tr>\n",
       "    <tr>\n",
       "      <td>std</td>\n",
       "      <td>1480.659950</td>\n",
       "      <td>16000.592722</td>\n",
       "      <td>1.702661</td>\n",
       "      <td>5.751843</td>\n",
       "      <td>14520.262941</td>\n",
       "      <td>5.924762</td>\n",
       "      <td>16757.547428</td>\n",
       "      <td>1.116938</td>\n",
       "    </tr>\n",
       "    <tr>\n",
       "      <td>min</td>\n",
       "      <td>1.000000</td>\n",
       "      <td>0.000000</td>\n",
       "      <td>0.000000</td>\n",
       "      <td>30.000000</td>\n",
       "      <td>0.000000</td>\n",
       "      <td>30.000000</td>\n",
       "      <td>11560.000000</td>\n",
       "      <td>0.000000</td>\n",
       "    </tr>\n",
       "    <tr>\n",
       "      <td>25%</td>\n",
       "      <td>1131.000000</td>\n",
       "      <td>140.978649</td>\n",
       "      <td>1.000000</td>\n",
       "      <td>35.000000</td>\n",
       "      <td>3800.000000</td>\n",
       "      <td>35.000000</td>\n",
       "      <td>44100.000000</td>\n",
       "      <td>1.000000</td>\n",
       "    </tr>\n",
       "    <tr>\n",
       "      <td>50%</td>\n",
       "      <td>2519.000000</td>\n",
       "      <td>1196.004661</td>\n",
       "      <td>2.000000</td>\n",
       "      <td>40.000000</td>\n",
       "      <td>9800.000000</td>\n",
       "      <td>40.000000</td>\n",
       "      <td>44620.000000</td>\n",
       "      <td>2.000000</td>\n",
       "    </tr>\n",
       "    <tr>\n",
       "      <td>75%</td>\n",
       "      <td>3798.000000</td>\n",
       "      <td>4206.765611</td>\n",
       "      <td>4.000000</td>\n",
       "      <td>45.000000</td>\n",
       "      <td>20100.000000</td>\n",
       "      <td>45.000000</td>\n",
       "      <td>53100.000000</td>\n",
       "      <td>3.000000</td>\n",
       "    </tr>\n",
       "    <tr>\n",
       "      <td>max</td>\n",
       "      <td>4999.000000</td>\n",
       "      <td>413467.722362</td>\n",
       "      <td>5.000000</td>\n",
       "      <td>49.000000</td>\n",
       "      <td>108300.000000</td>\n",
       "      <td>49.000000</td>\n",
       "      <td>64000.000000</td>\n",
       "      <td>5.000000</td>\n",
       "    </tr>\n",
       "  </tbody>\n",
       "</table>\n",
       "</div>"
      ],
      "text/plain": [
       "                ID  TXN_TOTAL_VALUE    TXN_COUNT          CAT         AMOUNT  \\\n",
       "count  1505.000000      1505.000000  1505.000000  1505.000000    1505.000000   \n",
       "mean   2477.852492      5038.457266     2.506977    39.663787   14479.800664   \n",
       "std    1480.659950     16000.592722     1.702661     5.751843   14520.262941   \n",
       "min       1.000000         0.000000     0.000000    30.000000       0.000000   \n",
       "25%    1131.000000       140.978649     1.000000    35.000000    3800.000000   \n",
       "50%    2519.000000      1196.004661     2.000000    40.000000    9800.000000   \n",
       "75%    3798.000000      4206.765611     4.000000    45.000000   20100.000000   \n",
       "max    4999.000000    413467.722362     5.000000    49.000000  108300.000000   \n",
       "\n",
       "       INTEREST_RATE            CP  DELIVERY_SCORE  \n",
       "count    1505.000000   1046.000000     1046.000000  \n",
       "mean       39.695681  42298.432122        1.964627  \n",
       "std         5.924762  16757.547428        1.116938  \n",
       "min        30.000000  11560.000000        0.000000  \n",
       "25%        35.000000  44100.000000        1.000000  \n",
       "50%        40.000000  44620.000000        2.000000  \n",
       "75%        45.000000  53100.000000        3.000000  \n",
       "max        49.000000  64000.000000        5.000000  "
      ]
     },
     "execution_count": 15,
     "metadata": {},
     "output_type": "execute_result"
    }
   ],
   "source": [
    "interest_and_cost = data[\n",
    "    ['ID', 'CAT', 'AMOUNT', 'INTEREST_RATE']\n",
    "].dropna()\n",
    "\n",
    "cp_and_score = data[\n",
    "    ['ID', 'CP', 'DELIVERY_SCORE']\n",
    "].dropna()\n",
    "\n",
    "card_holders_grouped['PURCHASES'] = np.nan\n",
    "card_holders_grouped['PURCHASES'] = card_holders_grouped['PURCHASES'].astype(object)\n",
    "\n",
    "for each in card_holders_grouped['ID']:\n",
    "    response_date = data.loc[\n",
    "        (data['ID'] == each) &\n",
    "        (data['STATUS'] == \"RESPONSE\"),\n",
    "        'UPDATE'\n",
    "    ].values\n",
    "    if len(response_date) > 0:\n",
    "        card_holders_grouped.loc[\n",
    "            (card_holders_grouped['ID'] == each),\n",
    "            'RESPONSE_DATE'\n",
    "        ] = response_date[0]\n",
    "        \n",
    "    delivery_date = data.loc[\n",
    "        (data['ID'] == each) &\n",
    "        (data['STATUS'] == \"DELIVERED\"),\n",
    "        'UPDATE'\n",
    "    ].values\n",
    "    if len(delivery_date) > 0:\n",
    "        card_holders_grouped.loc[\n",
    "            (card_holders_grouped['ID'] == each),\n",
    "            'DELIVERY_DATE'\n",
    "        ] = delivery_date[0]\n",
    "        \n",
    "    approved_date = data.loc[\n",
    "        (data['ID'] == each) &\n",
    "        (data['STATUS'] == \"APPROVED\"),\n",
    "        'UPDATE'\n",
    "    ].values\n",
    "    if len(approved_date) > 0:\n",
    "        card_holders_grouped.loc[\n",
    "            (card_holders_grouped['ID'] == each),\n",
    "            'APPROVED_DATE'\n",
    "        ] = approved_date[0]\n",
    "    \n",
    "    \n",
    "    \n",
    "    purchases = data.loc[\n",
    "        (data['ID'] == each) &\n",
    "        (data['TXN'] > 0),\n",
    "        'UPDATE'\n",
    "    ].values.tolist()\n",
    "    if len(purchases) > 0:\n",
    "        purchases = [datetime.datetime.fromtimestamp(x / 1000000000) for x in purchases]\n",
    "        card_holders_grouped.at[\n",
    "            (card_holders_grouped[card_holders_grouped['ID'] == each].index.values[0]),\n",
    "            'PURCHASES'\n",
    "        ] = purchases\n",
    "\n",
    "card_holders_grouped = card_holders_grouped.merge(interest_and_cost, how=\"left\")\n",
    "card_holders_grouped = card_holders_grouped.merge(cp_and_score, how=\"left\")\n",
    "card_holders_grouped.describe()"
   ]
  },
  {
   "cell_type": "code",
   "execution_count": 16,
   "metadata": {},
   "outputs": [
    {
     "data": {
      "text/html": [
       "<div>\n",
       "<style scoped>\n",
       "    .dataframe tbody tr th:only-of-type {\n",
       "        vertical-align: middle;\n",
       "    }\n",
       "\n",
       "    .dataframe tbody tr th {\n",
       "        vertical-align: top;\n",
       "    }\n",
       "\n",
       "    .dataframe thead th {\n",
       "        text-align: right;\n",
       "    }\n",
       "</style>\n",
       "<table border=\"1\" class=\"dataframe\">\n",
       "  <thead>\n",
       "    <tr style=\"text-align: right;\">\n",
       "      <th></th>\n",
       "      <th>ID</th>\n",
       "      <th>CARD_TYPE</th>\n",
       "      <th>TXN_TOTAL_VALUE</th>\n",
       "      <th>TXN_COUNT</th>\n",
       "      <th>RESPONSE_DATE</th>\n",
       "      <th>APPROVED_DATE</th>\n",
       "      <th>DELIVERY_DATE</th>\n",
       "      <th>CAT</th>\n",
       "      <th>AMOUNT</th>\n",
       "      <th>INTEREST_RATE</th>\n",
       "      <th>CP</th>\n",
       "      <th>DELIVERY_SCORE</th>\n",
       "      <th>0</th>\n",
       "      <th>1</th>\n",
       "      <th>2</th>\n",
       "      <th>3</th>\n",
       "      <th>4</th>\n",
       "    </tr>\n",
       "  </thead>\n",
       "  <tbody>\n",
       "    <tr>\n",
       "      <td>0</td>\n",
       "      <td>1</td>\n",
       "      <td>DIGITAL</td>\n",
       "      <td>434.112066</td>\n",
       "      <td>1.0</td>\n",
       "      <td>2019-11-12 16:59:50</td>\n",
       "      <td>2019-11-15 16:14:50</td>\n",
       "      <td>NaT</td>\n",
       "      <td>49.0</td>\n",
       "      <td>1300.0</td>\n",
       "      <td>40.0</td>\n",
       "      <td>NaN</td>\n",
       "      <td>NaN</td>\n",
       "      <td>2020-01-14 17:08:23</td>\n",
       "      <td>NaT</td>\n",
       "      <td>NaT</td>\n",
       "      <td>NaT</td>\n",
       "      <td>NaT</td>\n",
       "    </tr>\n",
       "    <tr>\n",
       "      <td>1</td>\n",
       "      <td>4</td>\n",
       "      <td>PLASTIC</td>\n",
       "      <td>5426.211783</td>\n",
       "      <td>4.0</td>\n",
       "      <td>2019-11-11 07:01:06</td>\n",
       "      <td>2019-11-13 14:49:54</td>\n",
       "      <td>2019-11-16 14:00:52</td>\n",
       "      <td>39.0</td>\n",
       "      <td>10000.0</td>\n",
       "      <td>32.0</td>\n",
       "      <td>11560.0</td>\n",
       "      <td>3.0</td>\n",
       "      <td>2019-11-17 02:25:46</td>\n",
       "      <td>2019-11-17 04:22:22</td>\n",
       "      <td>2019-11-18 22:44:53</td>\n",
       "      <td>2019-11-19 00:53:04</td>\n",
       "      <td>NaT</td>\n",
       "    </tr>\n",
       "    <tr>\n",
       "      <td>2</td>\n",
       "      <td>5</td>\n",
       "      <td>PLASTIC</td>\n",
       "      <td>0.000000</td>\n",
       "      <td>0.0</td>\n",
       "      <td>2019-12-30 20:59:27</td>\n",
       "      <td>2020-01-11 05:27:30</td>\n",
       "      <td>2020-01-11 19:08:11</td>\n",
       "      <td>48.0</td>\n",
       "      <td>15900.0</td>\n",
       "      <td>46.0</td>\n",
       "      <td>53100.0</td>\n",
       "      <td>0.0</td>\n",
       "      <td>NaT</td>\n",
       "      <td>NaT</td>\n",
       "      <td>NaT</td>\n",
       "      <td>NaT</td>\n",
       "      <td>NaT</td>\n",
       "    </tr>\n",
       "    <tr>\n",
       "      <td>3</td>\n",
       "      <td>8</td>\n",
       "      <td>PLASTIC</td>\n",
       "      <td>0.000000</td>\n",
       "      <td>0.0</td>\n",
       "      <td>2019-11-13 16:09:03</td>\n",
       "      <td>2019-11-17 10:44:07</td>\n",
       "      <td>2019-11-18 00:04:53</td>\n",
       "      <td>42.0</td>\n",
       "      <td>3300.0</td>\n",
       "      <td>40.0</td>\n",
       "      <td>11560.0</td>\n",
       "      <td>2.0</td>\n",
       "      <td>NaT</td>\n",
       "      <td>NaT</td>\n",
       "      <td>NaT</td>\n",
       "      <td>NaT</td>\n",
       "      <td>NaT</td>\n",
       "    </tr>\n",
       "    <tr>\n",
       "      <td>4</td>\n",
       "      <td>11</td>\n",
       "      <td>PLASTIC</td>\n",
       "      <td>6251.991470</td>\n",
       "      <td>5.0</td>\n",
       "      <td>2019-11-12 16:20:14</td>\n",
       "      <td>2019-11-15 04:00:23</td>\n",
       "      <td>2019-11-16 22:55:00</td>\n",
       "      <td>32.0</td>\n",
       "      <td>49800.0</td>\n",
       "      <td>32.0</td>\n",
       "      <td>64000.0</td>\n",
       "      <td>0.0</td>\n",
       "      <td>2019-11-17 09:42:49</td>\n",
       "      <td>2019-11-17 21:11:22</td>\n",
       "      <td>2019-11-18 11:36:26</td>\n",
       "      <td>2019-11-20 12:53:34</td>\n",
       "      <td>2019-12-03 23:41:00</td>\n",
       "    </tr>\n",
       "  </tbody>\n",
       "</table>\n",
       "</div>"
      ],
      "text/plain": [
       "   ID CARD_TYPE  TXN_TOTAL_VALUE  TXN_COUNT       RESPONSE_DATE  \\\n",
       "0   1   DIGITAL       434.112066        1.0 2019-11-12 16:59:50   \n",
       "1   4   PLASTIC      5426.211783        4.0 2019-11-11 07:01:06   \n",
       "2   5   PLASTIC         0.000000        0.0 2019-12-30 20:59:27   \n",
       "3   8   PLASTIC         0.000000        0.0 2019-11-13 16:09:03   \n",
       "4  11   PLASTIC      6251.991470        5.0 2019-11-12 16:20:14   \n",
       "\n",
       "        APPROVED_DATE       DELIVERY_DATE   CAT   AMOUNT  INTEREST_RATE  \\\n",
       "0 2019-11-15 16:14:50                 NaT  49.0   1300.0           40.0   \n",
       "1 2019-11-13 14:49:54 2019-11-16 14:00:52  39.0  10000.0           32.0   \n",
       "2 2020-01-11 05:27:30 2020-01-11 19:08:11  48.0  15900.0           46.0   \n",
       "3 2019-11-17 10:44:07 2019-11-18 00:04:53  42.0   3300.0           40.0   \n",
       "4 2019-11-15 04:00:23 2019-11-16 22:55:00  32.0  49800.0           32.0   \n",
       "\n",
       "        CP  DELIVERY_SCORE                   0                   1  \\\n",
       "0      NaN             NaN 2020-01-14 17:08:23                 NaT   \n",
       "1  11560.0             3.0 2019-11-17 02:25:46 2019-11-17 04:22:22   \n",
       "2  53100.0             0.0                 NaT                 NaT   \n",
       "3  11560.0             2.0                 NaT                 NaT   \n",
       "4  64000.0             0.0 2019-11-17 09:42:49 2019-11-17 21:11:22   \n",
       "\n",
       "                    2                   3                   4  \n",
       "0                 NaT                 NaT                 NaT  \n",
       "1 2019-11-18 22:44:53 2019-11-19 00:53:04                 NaT  \n",
       "2                 NaT                 NaT                 NaT  \n",
       "3                 NaT                 NaT                 NaT  \n",
       "4 2019-11-18 11:36:26 2019-11-20 12:53:34 2019-12-03 23:41:00  "
      ]
     },
     "execution_count": 16,
     "metadata": {},
     "output_type": "execute_result"
    }
   ],
   "source": [
    "exploded_purchases = card_holders_grouped[['ID', 'PURCHASES']].dropna()\n",
    "exploded_purchases = pd.concat([exploded_purchases, exploded_purchases['PURCHASES'].apply(pd.Series)], axis=1)\n",
    "card_holders_grouped = card_holders_grouped.merge(exploded_purchases, how=\"left\", on=\"ID\")\n",
    "card_holders_grouped.drop(columns = ['PURCHASES_x', 'PURCHASES_y'], inplace=True)\n",
    "card_holders_grouped.head()"
   ]
  },
  {
   "cell_type": "markdown",
   "metadata": {},
   "source": [
    "We have all the transactions of each card holder. Let's get that lifetime."
   ]
  },
  {
   "cell_type": "code",
   "execution_count": 17,
   "metadata": {},
   "outputs": [],
   "source": [
    "card_holders_grouped['LIFETIME'] = np.nan\n",
    "\n",
    "# one transaction\n",
    "one = card_holders_grouped.loc[\n",
    "    (card_holders_grouped[0].notna()) &\n",
    "    (card_holders_grouped[1].isna())\n",
    "]\n",
    "temp = one[0] - one['APPROVED_DATE']\n",
    "card_holders_grouped['LIFETIME'] = temp\n",
    "\n",
    "\n",
    "# two transactions\n",
    "two = card_holders_grouped.loc[\n",
    "    (card_holders_grouped[1].notna()) &\n",
    "    (card_holders_grouped[2].isna())\n",
    "]\n",
    "temp = two[1] - two['APPROVED_DATE']\n",
    "card_holders_grouped.loc[\n",
    "    card_holders_grouped['LIFETIME'].isna(),\n",
    "    'LIFETIME'\n",
    "] = temp\n",
    "\n",
    "\n",
    "# three transactions\n",
    "three = card_holders_grouped.loc[\n",
    "    (card_holders_grouped[2].notna()) &\n",
    "    (card_holders_grouped[3].isna())\n",
    "]\n",
    "temp = three[2] - three['APPROVED_DATE']\n",
    "card_holders_grouped.loc[\n",
    "    card_holders_grouped['LIFETIME'].isna(),\n",
    "    'LIFETIME'\n",
    "] = temp\n",
    "\n",
    "# four transactions\n",
    "four = card_holders_grouped.loc[\n",
    "    (card_holders_grouped[3].notna()) &\n",
    "    (card_holders_grouped[4].isna())\n",
    "]\n",
    "temp = four[3] - four['APPROVED_DATE']\n",
    "card_holders_grouped.loc[\n",
    "    card_holders_grouped['LIFETIME'].isna(),\n",
    "    'LIFETIME'\n",
    "] = temp\n",
    "\n",
    "# five transactions\n",
    "five = card_holders_grouped.loc[\n",
    "    card_holders_grouped[4].notna()\n",
    "]\n",
    "temp = five[4] - five['APPROVED_DATE']\n",
    "card_holders_grouped.loc[\n",
    "    card_holders_grouped['LIFETIME'].isna(),\n",
    "    'LIFETIME'\n",
    "] = temp"
   ]
  },
  {
   "cell_type": "markdown",
   "metadata": {},
   "source": [
    "We have been carrying non-active clients. Let's look only at the active ones."
   ]
  },
  {
   "cell_type": "code",
   "execution_count": 18,
   "metadata": {},
   "outputs": [
    {
     "data": {
      "text/html": [
       "<div>\n",
       "<style scoped>\n",
       "    .dataframe tbody tr th:only-of-type {\n",
       "        vertical-align: middle;\n",
       "    }\n",
       "\n",
       "    .dataframe tbody tr th {\n",
       "        vertical-align: top;\n",
       "    }\n",
       "\n",
       "    .dataframe thead th {\n",
       "        text-align: right;\n",
       "    }\n",
       "</style>\n",
       "<table border=\"1\" class=\"dataframe\">\n",
       "  <thead>\n",
       "    <tr style=\"text-align: right;\">\n",
       "      <th></th>\n",
       "      <th>ID</th>\n",
       "      <th>CARD_TYPE</th>\n",
       "      <th>TXN_TOTAL_VALUE</th>\n",
       "      <th>TXN_COUNT</th>\n",
       "      <th>RESPONSE_DATE</th>\n",
       "      <th>APPROVED_DATE</th>\n",
       "      <th>DELIVERY_DATE</th>\n",
       "      <th>CAT</th>\n",
       "      <th>AMOUNT</th>\n",
       "      <th>INTEREST_RATE</th>\n",
       "      <th>CP</th>\n",
       "      <th>DELIVERY_SCORE</th>\n",
       "      <th>0</th>\n",
       "      <th>1</th>\n",
       "      <th>2</th>\n",
       "      <th>3</th>\n",
       "      <th>4</th>\n",
       "      <th>LIFETIME</th>\n",
       "    </tr>\n",
       "  </thead>\n",
       "  <tbody>\n",
       "    <tr>\n",
       "      <td>0</td>\n",
       "      <td>1</td>\n",
       "      <td>DIGITAL</td>\n",
       "      <td>434.112066</td>\n",
       "      <td>1.0</td>\n",
       "      <td>2019-11-12 16:59:50</td>\n",
       "      <td>2019-11-15 16:14:50</td>\n",
       "      <td>NaT</td>\n",
       "      <td>49.0</td>\n",
       "      <td>1300.0</td>\n",
       "      <td>40.0</td>\n",
       "      <td>NaN</td>\n",
       "      <td>NaN</td>\n",
       "      <td>2020-01-14 17:08:23</td>\n",
       "      <td>NaT</td>\n",
       "      <td>NaT</td>\n",
       "      <td>NaT</td>\n",
       "      <td>NaT</td>\n",
       "      <td>60 days 00:53:33</td>\n",
       "    </tr>\n",
       "    <tr>\n",
       "      <td>1</td>\n",
       "      <td>4</td>\n",
       "      <td>PLASTIC</td>\n",
       "      <td>5426.211783</td>\n",
       "      <td>4.0</td>\n",
       "      <td>2019-11-11 07:01:06</td>\n",
       "      <td>2019-11-13 14:49:54</td>\n",
       "      <td>2019-11-16 14:00:52</td>\n",
       "      <td>39.0</td>\n",
       "      <td>10000.0</td>\n",
       "      <td>32.0</td>\n",
       "      <td>11560.0</td>\n",
       "      <td>3.0</td>\n",
       "      <td>2019-11-17 02:25:46</td>\n",
       "      <td>2019-11-17 04:22:22</td>\n",
       "      <td>2019-11-18 22:44:53</td>\n",
       "      <td>2019-11-19 00:53:04</td>\n",
       "      <td>NaT</td>\n",
       "      <td>5 days 10:03:10</td>\n",
       "    </tr>\n",
       "    <tr>\n",
       "      <td>2</td>\n",
       "      <td>5</td>\n",
       "      <td>PLASTIC</td>\n",
       "      <td>0.000000</td>\n",
       "      <td>0.0</td>\n",
       "      <td>2019-12-30 20:59:27</td>\n",
       "      <td>2020-01-11 05:27:30</td>\n",
       "      <td>2020-01-11 19:08:11</td>\n",
       "      <td>48.0</td>\n",
       "      <td>15900.0</td>\n",
       "      <td>46.0</td>\n",
       "      <td>53100.0</td>\n",
       "      <td>0.0</td>\n",
       "      <td>NaT</td>\n",
       "      <td>NaT</td>\n",
       "      <td>NaT</td>\n",
       "      <td>NaT</td>\n",
       "      <td>NaT</td>\n",
       "      <td>NaT</td>\n",
       "    </tr>\n",
       "    <tr>\n",
       "      <td>3</td>\n",
       "      <td>8</td>\n",
       "      <td>PLASTIC</td>\n",
       "      <td>0.000000</td>\n",
       "      <td>0.0</td>\n",
       "      <td>2019-11-13 16:09:03</td>\n",
       "      <td>2019-11-17 10:44:07</td>\n",
       "      <td>2019-11-18 00:04:53</td>\n",
       "      <td>42.0</td>\n",
       "      <td>3300.0</td>\n",
       "      <td>40.0</td>\n",
       "      <td>11560.0</td>\n",
       "      <td>2.0</td>\n",
       "      <td>NaT</td>\n",
       "      <td>NaT</td>\n",
       "      <td>NaT</td>\n",
       "      <td>NaT</td>\n",
       "      <td>NaT</td>\n",
       "      <td>NaT</td>\n",
       "    </tr>\n",
       "    <tr>\n",
       "      <td>4</td>\n",
       "      <td>11</td>\n",
       "      <td>PLASTIC</td>\n",
       "      <td>6251.991470</td>\n",
       "      <td>5.0</td>\n",
       "      <td>2019-11-12 16:20:14</td>\n",
       "      <td>2019-11-15 04:00:23</td>\n",
       "      <td>2019-11-16 22:55:00</td>\n",
       "      <td>32.0</td>\n",
       "      <td>49800.0</td>\n",
       "      <td>32.0</td>\n",
       "      <td>64000.0</td>\n",
       "      <td>0.0</td>\n",
       "      <td>2019-11-17 09:42:49</td>\n",
       "      <td>2019-11-17 21:11:22</td>\n",
       "      <td>2019-11-18 11:36:26</td>\n",
       "      <td>2019-11-20 12:53:34</td>\n",
       "      <td>2019-12-03 23:41:00</td>\n",
       "      <td>18 days 19:40:37</td>\n",
       "    </tr>\n",
       "    <tr>\n",
       "      <td>...</td>\n",
       "      <td>...</td>\n",
       "      <td>...</td>\n",
       "      <td>...</td>\n",
       "      <td>...</td>\n",
       "      <td>...</td>\n",
       "      <td>...</td>\n",
       "      <td>...</td>\n",
       "      <td>...</td>\n",
       "      <td>...</td>\n",
       "      <td>...</td>\n",
       "      <td>...</td>\n",
       "      <td>...</td>\n",
       "      <td>...</td>\n",
       "      <td>...</td>\n",
       "      <td>...</td>\n",
       "      <td>...</td>\n",
       "      <td>...</td>\n",
       "      <td>...</td>\n",
       "    </tr>\n",
       "    <tr>\n",
       "      <td>1500</td>\n",
       "      <td>4966</td>\n",
       "      <td>PLASTIC</td>\n",
       "      <td>2257.243075</td>\n",
       "      <td>5.0</td>\n",
       "      <td>2019-11-11 03:35:13</td>\n",
       "      <td>2019-11-13 13:29:02</td>\n",
       "      <td>2019-11-16 02:21:18</td>\n",
       "      <td>48.0</td>\n",
       "      <td>2600.0</td>\n",
       "      <td>48.0</td>\n",
       "      <td>44100.0</td>\n",
       "      <td>3.0</td>\n",
       "      <td>2019-11-17 01:40:24</td>\n",
       "      <td>2019-12-17 08:38:52</td>\n",
       "      <td>2019-12-26 07:30:29</td>\n",
       "      <td>2020-03-04 10:56:57</td>\n",
       "      <td>2020-03-04 15:19:23</td>\n",
       "      <td>112 days 01:50:21</td>\n",
       "    </tr>\n",
       "    <tr>\n",
       "      <td>1501</td>\n",
       "      <td>4970</td>\n",
       "      <td>DIGITAL</td>\n",
       "      <td>3299.439022</td>\n",
       "      <td>5.0</td>\n",
       "      <td>2019-11-13 04:44:25</td>\n",
       "      <td>2019-11-22 00:58:34</td>\n",
       "      <td>NaT</td>\n",
       "      <td>44.0</td>\n",
       "      <td>16100.0</td>\n",
       "      <td>42.0</td>\n",
       "      <td>NaN</td>\n",
       "      <td>NaN</td>\n",
       "      <td>2019-11-22 18:22:04</td>\n",
       "      <td>2019-11-28 16:03:34</td>\n",
       "      <td>2019-12-01 21:00:35</td>\n",
       "      <td>2019-12-01 21:44:25</td>\n",
       "      <td>2019-12-21 20:32:38</td>\n",
       "      <td>29 days 19:34:04</td>\n",
       "    </tr>\n",
       "    <tr>\n",
       "      <td>1502</td>\n",
       "      <td>4991</td>\n",
       "      <td>PLASTIC</td>\n",
       "      <td>2901.124415</td>\n",
       "      <td>5.0</td>\n",
       "      <td>2019-12-04 22:20:51</td>\n",
       "      <td>2019-12-07 09:49:16</td>\n",
       "      <td>2019-12-08 07:00:37</td>\n",
       "      <td>33.0</td>\n",
       "      <td>4300.0</td>\n",
       "      <td>35.0</td>\n",
       "      <td>44100.0</td>\n",
       "      <td>3.0</td>\n",
       "      <td>2020-01-10 18:53:16</td>\n",
       "      <td>2020-01-10 21:51:20</td>\n",
       "      <td>2020-01-13 10:21:27</td>\n",
       "      <td>2020-01-14 12:30:12</td>\n",
       "      <td>2020-01-14 17:53:33</td>\n",
       "      <td>38 days 08:04:17</td>\n",
       "    </tr>\n",
       "    <tr>\n",
       "      <td>1503</td>\n",
       "      <td>4998</td>\n",
       "      <td>DIGITAL</td>\n",
       "      <td>886.801257</td>\n",
       "      <td>4.0</td>\n",
       "      <td>2019-11-12 04:58:12</td>\n",
       "      <td>2019-11-14 03:41:21</td>\n",
       "      <td>NaT</td>\n",
       "      <td>36.0</td>\n",
       "      <td>25600.0</td>\n",
       "      <td>46.0</td>\n",
       "      <td>NaN</td>\n",
       "      <td>NaN</td>\n",
       "      <td>2019-11-14 06:27:23</td>\n",
       "      <td>2019-11-16 01:10:05</td>\n",
       "      <td>2019-11-16 04:10:26</td>\n",
       "      <td>2019-12-06 13:58:12</td>\n",
       "      <td>NaT</td>\n",
       "      <td>22 days 10:16:51</td>\n",
       "    </tr>\n",
       "    <tr>\n",
       "      <td>1504</td>\n",
       "      <td>4999</td>\n",
       "      <td>PLASTIC</td>\n",
       "      <td>36084.482922</td>\n",
       "      <td>5.0</td>\n",
       "      <td>2020-04-11 05:57:50</td>\n",
       "      <td>2020-04-18 12:33:11</td>\n",
       "      <td>2020-04-20 14:48:27</td>\n",
       "      <td>49.0</td>\n",
       "      <td>1300.0</td>\n",
       "      <td>48.0</td>\n",
       "      <td>44100.0</td>\n",
       "      <td>2.0</td>\n",
       "      <td>2020-04-21 09:07:42</td>\n",
       "      <td>2020-04-26 09:40:29</td>\n",
       "      <td>2020-04-27 03:22:31</td>\n",
       "      <td>2020-04-27 09:27:19</td>\n",
       "      <td>2020-05-21 21:43:01</td>\n",
       "      <td>33 days 09:09:50</td>\n",
       "    </tr>\n",
       "  </tbody>\n",
       "</table>\n",
       "<p>1505 rows × 18 columns</p>\n",
       "</div>"
      ],
      "text/plain": [
       "        ID CARD_TYPE  TXN_TOTAL_VALUE  TXN_COUNT       RESPONSE_DATE  \\\n",
       "0        1   DIGITAL       434.112066        1.0 2019-11-12 16:59:50   \n",
       "1        4   PLASTIC      5426.211783        4.0 2019-11-11 07:01:06   \n",
       "2        5   PLASTIC         0.000000        0.0 2019-12-30 20:59:27   \n",
       "3        8   PLASTIC         0.000000        0.0 2019-11-13 16:09:03   \n",
       "4       11   PLASTIC      6251.991470        5.0 2019-11-12 16:20:14   \n",
       "...    ...       ...              ...        ...                 ...   \n",
       "1500  4966   PLASTIC      2257.243075        5.0 2019-11-11 03:35:13   \n",
       "1501  4970   DIGITAL      3299.439022        5.0 2019-11-13 04:44:25   \n",
       "1502  4991   PLASTIC      2901.124415        5.0 2019-12-04 22:20:51   \n",
       "1503  4998   DIGITAL       886.801257        4.0 2019-11-12 04:58:12   \n",
       "1504  4999   PLASTIC     36084.482922        5.0 2020-04-11 05:57:50   \n",
       "\n",
       "           APPROVED_DATE       DELIVERY_DATE   CAT   AMOUNT  INTEREST_RATE  \\\n",
       "0    2019-11-15 16:14:50                 NaT  49.0   1300.0           40.0   \n",
       "1    2019-11-13 14:49:54 2019-11-16 14:00:52  39.0  10000.0           32.0   \n",
       "2    2020-01-11 05:27:30 2020-01-11 19:08:11  48.0  15900.0           46.0   \n",
       "3    2019-11-17 10:44:07 2019-11-18 00:04:53  42.0   3300.0           40.0   \n",
       "4    2019-11-15 04:00:23 2019-11-16 22:55:00  32.0  49800.0           32.0   \n",
       "...                  ...                 ...   ...      ...            ...   \n",
       "1500 2019-11-13 13:29:02 2019-11-16 02:21:18  48.0   2600.0           48.0   \n",
       "1501 2019-11-22 00:58:34                 NaT  44.0  16100.0           42.0   \n",
       "1502 2019-12-07 09:49:16 2019-12-08 07:00:37  33.0   4300.0           35.0   \n",
       "1503 2019-11-14 03:41:21                 NaT  36.0  25600.0           46.0   \n",
       "1504 2020-04-18 12:33:11 2020-04-20 14:48:27  49.0   1300.0           48.0   \n",
       "\n",
       "           CP  DELIVERY_SCORE                   0                   1  \\\n",
       "0         NaN             NaN 2020-01-14 17:08:23                 NaT   \n",
       "1     11560.0             3.0 2019-11-17 02:25:46 2019-11-17 04:22:22   \n",
       "2     53100.0             0.0                 NaT                 NaT   \n",
       "3     11560.0             2.0                 NaT                 NaT   \n",
       "4     64000.0             0.0 2019-11-17 09:42:49 2019-11-17 21:11:22   \n",
       "...       ...             ...                 ...                 ...   \n",
       "1500  44100.0             3.0 2019-11-17 01:40:24 2019-12-17 08:38:52   \n",
       "1501      NaN             NaN 2019-11-22 18:22:04 2019-11-28 16:03:34   \n",
       "1502  44100.0             3.0 2020-01-10 18:53:16 2020-01-10 21:51:20   \n",
       "1503      NaN             NaN 2019-11-14 06:27:23 2019-11-16 01:10:05   \n",
       "1504  44100.0             2.0 2020-04-21 09:07:42 2020-04-26 09:40:29   \n",
       "\n",
       "                       2                   3                   4  \\\n",
       "0                    NaT                 NaT                 NaT   \n",
       "1    2019-11-18 22:44:53 2019-11-19 00:53:04                 NaT   \n",
       "2                    NaT                 NaT                 NaT   \n",
       "3                    NaT                 NaT                 NaT   \n",
       "4    2019-11-18 11:36:26 2019-11-20 12:53:34 2019-12-03 23:41:00   \n",
       "...                  ...                 ...                 ...   \n",
       "1500 2019-12-26 07:30:29 2020-03-04 10:56:57 2020-03-04 15:19:23   \n",
       "1501 2019-12-01 21:00:35 2019-12-01 21:44:25 2019-12-21 20:32:38   \n",
       "1502 2020-01-13 10:21:27 2020-01-14 12:30:12 2020-01-14 17:53:33   \n",
       "1503 2019-11-16 04:10:26 2019-12-06 13:58:12                 NaT   \n",
       "1504 2020-04-27 03:22:31 2020-04-27 09:27:19 2020-05-21 21:43:01   \n",
       "\n",
       "              LIFETIME  \n",
       "0     60 days 00:53:33  \n",
       "1      5 days 10:03:10  \n",
       "2                  NaT  \n",
       "3                  NaT  \n",
       "4     18 days 19:40:37  \n",
       "...                ...  \n",
       "1500 112 days 01:50:21  \n",
       "1501  29 days 19:34:04  \n",
       "1502  38 days 08:04:17  \n",
       "1503  22 days 10:16:51  \n",
       "1504  33 days 09:09:50  \n",
       "\n",
       "[1505 rows x 18 columns]"
      ]
     },
     "execution_count": 18,
     "metadata": {},
     "output_type": "execute_result"
    }
   ],
   "source": [
    "active_clients = card_holders_grouped.loc[\n",
    "    card_holders_grouped['LIFETIME'].notna()\n",
    "]\n",
    "card_holders_grouped"
   ]
  },
  {
   "cell_type": "markdown",
   "metadata": {},
   "source": [
    "We add the average TXN value."
   ]
  },
  {
   "cell_type": "code",
   "execution_count": 19,
   "metadata": {},
   "outputs": [],
   "source": [
    "active_clients['TXN_AVG'] = active_clients['TXN_TOTAL_VALUE'] / active_clients['TXN_COUNT']"
   ]
  },
  {
   "cell_type": "markdown",
   "metadata": {},
   "source": [
    "We adjust the interest rate."
   ]
  },
  {
   "cell_type": "code",
   "execution_count": 20,
   "metadata": {},
   "outputs": [],
   "source": [
    "active_clients['ADJUSTED_INTEREST_RATE'] = active_clients['INTEREST_RATE'] / 2\n",
    "active_clients['MONTHLY_ADJUSTED_INTEREST_RATE'] = active_clients['ADJUSTED_INTEREST_RATE'] / 12"
   ]
  },
  {
   "cell_type": "markdown",
   "metadata": {},
   "source": [
    "Average daily balance."
   ]
  },
  {
   "cell_type": "code",
   "execution_count": 21,
   "metadata": {},
   "outputs": [],
   "source": [
    "active_clients['AVG_DAILY_BALANCE'] = active_clients['TXN_TOTAL_VALUE'] / (active_clients['LIFETIME'].dt.total_seconds()  / (3600 * 24))"
   ]
  },
  {
   "cell_type": "markdown",
   "metadata": {},
   "source": [
    "Calculate gross revenue for active clients."
   ]
  },
  {
   "cell_type": "code",
   "execution_count": 22,
   "metadata": {},
   "outputs": [],
   "source": [
    "active_clients['GROSS_REVENUE'] = (active_clients['AVG_DAILY_BALANCE'] *\n",
    "                                  (active_clients['MONTHLY_ADJUSTED_INTEREST_RATE'] / 100) *\n",
    "                                 (active_clients['LIFETIME'].dt.total_seconds()  / (3600 * 24)))"
   ]
  },
  {
   "cell_type": "markdown",
   "metadata": {},
   "source": [
    "Let's see how each type of user behaves in terms of gross revenue."
   ]
  },
  {
   "cell_type": "code",
   "execution_count": 23,
   "metadata": {},
   "outputs": [
    {
     "data": {
      "image/png": "[encoded data removed]",
      "text/plain": [
       "<Figure size 360x360 with 1 Axes>"
      ]
     },
     "metadata": {
      "needs_background": "light"
     },
     "output_type": "display_data"
    }
   ],
   "source": [
    "gross_rev_by_type = sns.catplot(x=\"CARD_TYPE\", y=\"GROSS_REVENUE\", kind=\"bar\", data=active_clients)\n",
    "gross_rev_by_type.savefig(\"./gross_rev_by_type.png\", dpi=150)"
   ]
  },
  {
   "cell_type": "markdown",
   "metadata": {},
   "source": [
    "Remarkably similar. Perhaps they have different net revenues?"
   ]
  },
  {
   "cell_type": "code",
   "execution_count": 24,
   "metadata": {},
   "outputs": [
    {
     "data": {
      "image/png": "[encoded data removed]",
      "text/plain": [
       "<Figure size 360x360 with 1 Axes>"
      ]
     },
     "metadata": {
      "needs_background": "light"
     },
     "output_type": "display_data"
    }
   ],
   "source": [
    "active_clients['NET_REVENUE'] = active_clients['GROSS_REVENUE'] - active_clients['CAT']\n",
    "net_rev_by_type = sns.catplot(x=\"CARD_TYPE\", y=\"NET_REVENUE\", kind=\"bar\", data=active_clients)\n",
    "net_rev_by_type.savefig(\"./net_rev_by_type.png\", dpi=150)"
   ]
  },
  {
   "cell_type": "markdown",
   "metadata": {},
   "source": [
    "Also similar. Maybe there is a difference in the number of people that get either card, but never use it."
   ]
  },
  {
   "cell_type": "code",
   "execution_count": 25,
   "metadata": {},
   "outputs": [],
   "source": [
    "digital = card_holders_grouped[\n",
    "    card_holders_grouped['CARD_TYPE'] == 'DIGITAL'\n",
    "]\n",
    "\n",
    "plastic = card_holders_grouped[\n",
    "    card_holders_grouped['CARD_TYPE'] == 'PLASTIC'\n",
    "]"
   ]
  },
  {
   "cell_type": "code",
   "execution_count": 26,
   "metadata": {},
   "outputs": [
    {
     "name": "stdout",
     "output_type": "stream",
     "text": [
      "0.8518518518518519\n"
     ]
    }
   ],
   "source": [
    "never_used_digital = digital[digital[0].isna()].groupby('CARD_TYPE', as_index=False).agg({\"ID\": \"count\"})\n",
    "used_digital = digital[digital[0].notna()].groupby('CARD_TYPE', as_index=False).agg({\"ID\": \"count\"})\n",
    "digital_ratio = used_digital['ID'].values[0] / (used_digital['ID'].values[0] + never_used_digital['ID'].values[0])\n",
    "print(digital_ratio)"
   ]
  },
  {
   "cell_type": "code",
   "execution_count": 27,
   "metadata": {},
   "outputs": [
    {
     "name": "stdout",
     "output_type": "stream",
     "text": [
      "0.8260038240917782\n"
     ]
    }
   ],
   "source": [
    "never_used_plastic = plastic[plastic[0].isna()].groupby('CARD_TYPE', as_index=False).agg({\"ID\": \"count\"})\n",
    "used_plastic = plastic[plastic[0].notna()].groupby('CARD_TYPE', as_index=False).agg({\"ID\": \"count\"})\n",
    "plastic_ratio = used_plastic['ID'].values[0] / (used_plastic['ID'].values[0] + never_used_plastic['ID'].values[0])\n",
    "print(plastic_ratio)"
   ]
  },
  {
   "cell_type": "markdown",
   "metadata": {},
   "source": [
    "Digital users are slightly more likely to use the card if they get approved.\n",
    "\n",
    "As I said in the beginning, it is extremely important to take care of our users. Let's check the wait time for plastic users to get their card when they get approval and compare it with the delivery score."
   ]
  },
  {
   "cell_type": "code",
   "execution_count": 28,
   "metadata": {},
   "outputs": [],
   "source": [
    "plastic['WAIT_DAYS'] = plastic['DELIVERY_DATE'] - plastic['APPROVED_DATE']\n",
    "plastic['WAIT_DAYS'] = plastic['WAIT_DAYS'].dt.total_seconds() / (3600 * 24)"
   ]
  },
  {
   "cell_type": "code",
   "execution_count": 34,
   "metadata": {},
   "outputs": [
    {
     "data": {
      "image/png": "[encoded data removed]",
      "text/plain": [
       "<Figure size 360x360 with 1 Axes>"
      ]
     },
     "metadata": {
      "needs_background": "light"
     },
     "output_type": "display_data"
    }
   ],
   "source": [
    "wait_delivery_score = sns.catplot(x=\"DELIVERY_SCORE\", y=\"WAIT_DAYS\", kind=\"bar\", data=plastic)\n",
    "wait_delivery_score.savefig(\"./wait_delivery_score.png\", dpi=150)"
   ]
  },
  {
   "cell_type": "markdown",
   "metadata": {},
   "source": [
    "There doesn't seem to be any correlation.\n",
    "\n",
    "Rappi pay has made great optimizations in its operation. So far I haven't found any \"low hanging fruits\" to exploit in order to increase revenue or customer satisfaction. Perhaps I'd push a little harder for digital user attraction. Digital users are slightly more likely to make a transaction with their card than their plastic counter parts, and they represent only about a third of the total sample base. It seems like an underexplored market."
   ]
  },
  {
   "cell_type": "code",
   "execution_count": null,
   "metadata": {},
   "outputs": [],
   "source": []
  }
 ],
 "metadata": {
  "kernelspec": {
   "display_name": "Python [conda env:root] *",
   "language": "python",
   "name": "conda-root-py"
  },
  "language_info": {
   "codemirror_mode": {
    "name": "ipython",
    "version": 3
   },
   "file_extension": ".py",
   "mimetype": "text/x-python",
   "name": "python",
   "nbconvert_exporter": "python",
   "pygments_lexer": "ipython3",
   "version": "3.7.4"
  }
 },
 "nbformat": 4,
 "nbformat_minor": 4
}
